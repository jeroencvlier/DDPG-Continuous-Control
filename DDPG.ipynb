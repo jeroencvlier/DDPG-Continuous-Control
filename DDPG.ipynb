{
 "cells": [
  {
   "cell_type": "code",
   "execution_count": null,
   "id": "27a4e430-f939-4e6e-8f62-41a0fd6e8668",
   "metadata": {},
   "outputs": [],
   "source": [
    "# Environment\n",
    "from unityagents import UnityEnvironment\n",
    "\n",
    "\n",
    "import numpy as np\n",
    "from collections import deque\n",
    "from utils.agent import Agent\n",
    "\n",
    "# Activate Auto-completer\n",
    "%config Completer.use_jedi = False\n",
    "\n",
    "env = UnityEnvironment(file_name='Reacher.app')\n",
    "\n",
    "brain_name = env.brain_names[0]                     # get the default brain\n",
    "brain = env.brains[brain_name]                      # save the brain name\n",
    "env_info = env.reset(train_mode=True)[brain_name]   # reset the environment\n",
    "num_agents = len(env_info.agents)                   # get the number of agents\n",
    "action_size = brain.vector_action_space_size        # get the size of each action\n",
    "states = env_info.vector_observations               # examine the state space \n",
    "state_size = states.shape[1]                        # save the state size"
   ]
  },
  {
   "cell_type": "code",
   "execution_count": 2,
   "id": "fd57bdb0-0a99-4d8e-ab80-8dd513225fe5",
   "metadata": {
    "tags": []
   },
   "outputs": [
    {
     "name": "stdout",
     "output_type": "stream",
     "text": [
      "Episode 5\tAverage Scores: 1.96\n",
      "Episode 10\tAverage Scores: 5.14\n",
      "Episode 15\tAverage Scores: 8.67\n",
      "Episode 20\tAverage Scores: 11.50\n",
      "Episode 25\tAverage Scores: 14.17\n",
      "Episode 30\tAverage Scores: 16.60\n",
      "Episode 35\tAverage Scores: 18.71\n",
      "Episode 40\tAverage Scores: 20.55\n",
      "Episode 45\tAverage Scores: 22.19\n",
      "Episode 50\tAverage Scores: 23.65\n",
      "Episode 55\tAverage Scores: 24.96\n",
      "Episode 60\tAverage Scores: 25.97\n",
      "Episode 65\tAverage Scores: 26.94\n",
      "Episode 70\tAverage Scores: 27.77\n",
      "Episode 75\tAverage Scores: 28.47\n",
      "Episode 80\tAverage Scores: 29.09\n",
      "Episode 85\tAverage Scores: 29.65\n",
      "Episode 90\tAverage Scores: 30.13\n",
      "Episode 95\tAverage Scores: 30.58\n",
      "Episode 100\tAverage Scores: 30.99\n",
      "Episode 100\tAverage Scores: 30.99\n",
      "\n",
      "Environment solved!\tAverage Score: 0.00\n"
     ]
    },
    {
     "data": {
      "image/png": "[encoded data removed]",
      "text/plain": [
       "<Figure size 576x360 with 1 Axes>"
      ]
     },
     "metadata": {
      "needs_background": "light"
     },
     "output_type": "display_data"
    },
    {
     "name": "stdout",
     "output_type": "stream",
     "text": [
      "CPU times: user 57min 46s, sys: 7min 46s, total: 1h 5min 33s\n",
      "Wall time: 1h 3min 1s\n"
     ]
    }
   ],
   "source": [
    "%%time\n",
    "def ddpg(env,num_agents,state_size,action_size,n_episodes = 500, max_t = 1000):\n",
    "    scores_deque = deque(maxlen=100)\n",
    "    scores = []\n",
    "    \n",
    "    # initiate agent\n",
    "    agent = Agent(num_agents,state_size,action_size)\n",
    "\n",
    "    for i_episode in range(1, n_episodes+1):    \n",
    "        env_info = env.reset(train_mode=True)[brain_name]\n",
    "        score = np.zeros(num_agents)\n",
    "        agent.noise.reset()\n",
    "        state = env_info.vector_observations\n",
    "        for i in range(max_t):\n",
    "            reward, next_state, done = agent.act(env,brain_name,state)   \n",
    "            score += reward\n",
    "            state = next_state\n",
    "            if np.any(done):    \n",
    "                break\n",
    "        score = score.mean() \n",
    "        scores_deque.append(score)\n",
    "        scores.append(score)\n",
    "        if i_episode % agent.print_every == 0:\n",
    "            agent.plotter(scores,scores_deque)\n",
    "        if (np.mean(scores_deque)>=30.0) and (len(scores_deque)==100):\n",
    "            # save model\n",
    "            agent.save_checkpoint()\n",
    "            agent.plotter(scores, solved = True, save_plot = True)        \n",
    "            break\n",
    "    return \n",
    "\n",
    "ddpg(env,num_agents,state_size,action_size)"
   ]
  },
  {
   "cell_type": "markdown",
   "id": "f10e6eaf-6ef1-4ca2-8797-8bea80cb7669",
   "metadata": {},
   "source": [
    "## Watch a smart agent!"
   ]
  },
  {
   "cell_type": "code",
   "execution_count": 3,
   "id": "1bec1d17-3a0e-4c52-967c-c4663d48e705",
   "metadata": {},
   "outputs": [
    {
     "name": "stdout",
     "output_type": "stream",
     "text": [
      "Total score (averaged over agents) this episode: 38.39\n"
     ]
    }
   ],
   "source": [
    "from utils.actorCritic import ActorPolicy, CriticPolicy\n",
    "import ujson\n",
    "import torch\n",
    "# reset enviroment with train = False\n",
    "env_info = env.reset(train_mode=False)[brain_name]    \n",
    "scores = np.zeros(num_agents)    \n",
    "\n",
    "# initiate trained network\n",
    "actor_network = ujson.load(open('TrainedModel/DDPG_Actor_Network.json','r'))\n",
    "trained_actor = ActorPolicy(state_size, action_size, hidden = actor_network['hidden_layers'])\n",
    "state_dict_actor = torch.load('TrainedModel/DDPG_Actor.pth')\n",
    "trained_actor.load_state_dict(state_dict_actor)\n",
    "\n",
    "# set to evaluation mode\n",
    "trained_actor.eval()\n",
    "\n",
    "# loop until enviroment is done\n",
    "while True:\n",
    "    # take action\n",
    "    with torch.no_grad():\n",
    "        actions = trained_actor(env_info.vector_observations).cpu().data.numpy()\n",
    "        \n",
    "    # step\n",
    "    env_info = env.step(actions)[brain_name]           \n",
    "    next_states = env_info.vector_observations \n",
    "    \n",
    "    # add scores\n",
    "    scores += env_info.rewards  \n",
    "    \n",
    "    # check if complete\n",
    "    if np.any(env_info.local_done):                                  \n",
    "        break\n",
    "        \n",
    "print('Total score (averaged over agents) this episode: {:.2f}'.format(np.mean(scores)))\n",
    "env.close()"
   ]
  },
  {
   "cell_type": "markdown",
   "id": "0573af01-cbd2-4eba-8c18-f0351ddc9bec",
   "metadata": {},
   "source": [
    "![GIF of Trained Network](Images/ContinuousControl.gif)"
   ]
  },
  {
   "cell_type": "code",
   "execution_count": null,
   "id": "941d36a3-d107-48cb-a899-ea43a4fab6c6",
   "metadata": {},
   "outputs": [],
   "source": []
  }
 ],
 "metadata": {
  "kernelspec": {
   "display_name": "Python 3",
   "language": "python",
   "name": "python3"
  },
  "language_info": {
   "codemirror_mode": {
    "name": "ipython",
    "version": 3
   },
   "file_extension": ".py",
   "mimetype": "text/x-python",
   "name": "python",
   "nbconvert_exporter": "python",
   "pygments_lexer": "ipython3",
   "version": "3.6.13"
  }
 },
 "nbformat": 4,
 "nbformat_minor": 5
}
